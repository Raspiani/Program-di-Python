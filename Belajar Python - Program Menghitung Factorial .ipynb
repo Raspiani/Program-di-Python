{
 "cells": [
  {
   "cell_type": "markdown",
   "metadata": {},
   "source": [
    "<h3 id=\"Program-Menghitung-Faktorial\"><strong>Program Menghitung Faktorial</strong></h3>\n",
    "\n",
    "<pre>\n",
    "<code>Dalam matematika, faktorial dari bilangan asli n adalah hasil perkalian antara bilangan bulat positif</code><code> \n",
    "yang kurang dari atau sama dengan n. Faktorial ditulis sebagai n! dan disebut n faktorial. </code></pre>\n",
    "\n",
    "<p>Secara umum dapat dituliskan sebagai:</p>\n",
    "\n",
    "<dl>\n",
    "\t<dd><span class=\"mwe-math-element\"><span class=\"mwe-math-mathml-inline mwe-math-mathml-a11y\" style=\"display: none;\"><math alttext=\"{\\displaystyle n!=n\\cdot (n-1)\\cdot (n-2)\\cdot (n-3)\\cdot ...\\cdot 3\\cdot 2\\cdot 1}\" xmlns=\"http://www.w3.org/1998/Math/MathML\"> <semantics> <mrow class=\"MJX-TeXAtom-ORD\"> <mstyle displaystyle=\"true\" scriptlevel=\"0\"> <mi>n</mi> <mo>!</mo> <mo>=</mo> <mi>n</mi> <mo>&sdot;</mo> <mo stretchy=\"false\">(</mo> <mi>n</mi> <mo>&minus;</mo> <mn>1</mn> <mo stretchy=\"false\">)</mo> <mo>&sdot;</mo> <mo stretchy=\"false\">(</mo> <mi>n</mi> <mo>&minus;</mo> <mn>2</mn> <mo stretchy=\"false\">)</mo> <mo>&sdot;</mo> <mo stretchy=\"false\">(</mo> <mi>n</mi> <mo>&minus;</mo> <mn>3</mn> <mo stretchy=\"false\">)</mo> <mo>&sdot;</mo> <mo>.</mo> <mo>.</mo> <mo>.</mo> <mo>&sdot;</mo> <mn>3</mn> <mo>&sdot;</mo> <mn>2</mn> <mo>&sdot;</mo> <mn>1</mn> </mstyle> </mrow> <annotation encoding=\"application/x-tex\">{\\displaystyle n!=n\\cdot (n-1)\\cdot (n-2)\\cdot (n-3)\\cdot ...\\cdot 3\\cdot 2\\cdot 1}</annotation> </semantics> </math></span><img alt=\"{\\displaystyle n!=n\\cdot (n-1)\\cdot (n-2)\\cdot (n-3)\\cdot ...\\cdot 3\\cdot 2\\cdot 1}\" aria-hidden=\"true\" class=\"mwe-math-fallback-image-inline\" src=\"https://wikimedia.org/api/rest_v1/media/math/render/svg/2513df99648217b84c810b60b95f84b527df38ff\" style=\"vertical-align: -0.838ex; width:44.434ex; height:2.843ex;\" /></span></dd>\n",
    "</dl>\n",
    "\n",
    "<p>Sebagai contoh, nilai dari <span class=\"mwe-math-element\"><span class=\"mwe-math-mathml-inline mwe-math-mathml-a11y\" style=\"display: none;\"><math alttext=\"{\\displaystyle 7!}\" xmlns=\"http://www.w3.org/1998/Math/MathML\"> <semantics> <mrow class=\"MJX-TeXAtom-ORD\"> <mstyle displaystyle=\"true\" scriptlevel=\"0\"> <mn>7</mn> <mo>!</mo> </mstyle> </mrow> <annotation encoding=\"application/x-tex\">{\\displaystyle 7!}</annotation> </semantics> </math></span><img alt=\"{\\displaystyle 7!}\" aria-hidden=\"true\" class=\"mwe-math-fallback-image-inline\" src=\"https://wikimedia.org/api/rest_v1/media/math/render/svg/358193e7104c1e0e6e3a478271d8f3fd020f745a\" style=\"vertical-align: -0.338ex; width:1.809ex; height:2.176ex;\" /></span> adalah <span class=\"mwe-math-element\"><span class=\"mwe-math-mathml-inline mwe-math-mathml-a11y\" style=\"display: none;\"><math alttext=\"{\\displaystyle 7\\cdot 6\\cdot 5\\cdot 4\\cdot 3\\cdot 2\\cdot 1=5040.}\" xmlns=\"http://www.w3.org/1998/Math/MathML\"> <semantics> <mrow class=\"MJX-TeXAtom-ORD\"> <mstyle displaystyle=\"true\" scriptlevel=\"0\"> <mn>7</mn> <mo>&sdot;</mo> <mn>6</mn> <mo>&sdot;</mo> <mn>5</mn> <mo>&sdot;</mo> <mn>4</mn> <mo>&sdot;</mo> <mn>3</mn> <mo>&sdot;</mo> <mn>2</mn> <mo>&sdot;</mo> <mn>1</mn> <mo>=</mo> <mn>5040.</mn> </mstyle> </mrow> <annotation encoding=\"application/x-tex\">{\\displaystyle 7\\cdot 6\\cdot 5\\cdot 4\\cdot 3\\cdot 2\\cdot 1=5040.}</annotation> </semantics> </math></span><img alt=\"{\\displaystyle 7\\cdot 6\\cdot 5\\cdot 4\\cdot 3\\cdot 2\\cdot 1=5040.}\" aria-hidden=\"true\" class=\"mwe-math-fallback-image-inline\" src=\"https://wikimedia.org/api/rest_v1/media/math/render/svg/1ccebaada1eba36532026f8dbf0b4c5bd89e4da9\" style=\"vertical-align: -0.338ex; width:26.607ex; height:2.176ex;\" /></span></p>\n",
    "\n",
    "<pre>\n",
    "<code>sumber: <a href=\"https://id.wikipedia.org/wiki/Faktorial\" target=\"_blank\">https://id.wikipedia.org/wiki/Faktorial\n",
    "</a></code></pre>\n",
    "\n",
    "<p>&nbsp;</p>\n"
   ]
  },
  {
   "cell_type": "code",
   "execution_count": 1,
   "metadata": {},
   "outputs": [
    {
     "name": "stdout",
     "output_type": "stream",
     "text": [
      "Masukan Angka yang diinginkan: 5\n",
      "Faktorial dari 5 adalah 120\n"
     ]
    }
   ],
   "source": [
    "angka = int(input(\"Masukan Angka yang diinginkan: \"))\n",
    "\n",
    "faktorial = 1\n",
    "\n",
    "#Faktorial tidak pernah memiliki nilai negatif maupun nol yang berarti nilai dari faktorial selalu positif\n",
    "\n",
    "if angka < 0:\n",
    "    print(\"Maaf, Faktorial tidak ada untuk hasil yang negatif\")\n",
    "elif angka == 0:\n",
    "    print(\"Faktorial dari 0 adalah 1\")\n",
    "else:\n",
    "    for a in range(1, angka+1):\n",
    "        faktorial = faktorial * a\n",
    "    print(\"Faktorial dari\", angka, \"adalah\", faktorial)"
   ]
  }
 ],
 "metadata": {
  "kernelspec": {
   "display_name": "Python 3",
   "language": "python",
   "name": "python3"
  },
  "language_info": {
   "codemirror_mode": {
    "name": "ipython",
    "version": 3
   },
   "file_extension": ".py",
   "mimetype": "text/x-python",
   "name": "python",
   "nbconvert_exporter": "python",
   "pygments_lexer": "ipython3",
   "version": "3.6.5"
  }
 },
 "nbformat": 4,
 "nbformat_minor": 2
}
