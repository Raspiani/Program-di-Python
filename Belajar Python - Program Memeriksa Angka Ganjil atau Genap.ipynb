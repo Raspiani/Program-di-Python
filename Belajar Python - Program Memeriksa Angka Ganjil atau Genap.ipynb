{
 "cells": [
  {
   "cell_type": "markdown",
   "metadata": {},
   "source": [
    "### Program Memeriksa Angka Ganjil atau Genap\n",
    "\n",
    "    Berikut ini adalah program untuk memeriksa apakah angka yang ketika diinputkan adalah angka ganjil atau genap.\n",
    "    Angka Ganjil terdiri dari: 1, 3, 5, 7, .. dst sedangkan \n",
    "    Angka Genap terdiri dari: 2, 4, 6, 8, .. dst"
   ]
  },
  {
   "cell_type": "code",
   "execution_count": 2,
   "metadata": {},
   "outputs": [
    {
     "name": "stdout",
     "output_type": "stream",
     "text": [
      "Masukan angka yang anda inginkan: 5\n",
      "5 adalah angka ganjil\n"
     ]
    }
   ],
   "source": [
    "#membuat variabel angka yang kemudian menggunakan fungsi input dan float\n",
    "#membuat angka custom (terserah user ingin memasukan angkanya berapa pun)\n",
    "angka = int(input(\"Masukan angka yang anda inginkan: \"))\n",
    "\n",
    "#misalnya dalam hal ini angka yang diinputkan adalah 5 (angka = 5)\n",
    "\n",
    "if angka % 2 == 0:\n",
    "    print(\"{0} adalah angka genap\".format(angka))\n",
    "else:\n",
    "    print(\"{0} adalah angka ganjil\".format(angka))"
   ]
  }
 ],
 "metadata": {
  "kernelspec": {
   "display_name": "Python 3",
   "language": "python",
   "name": "python3"
  },
  "language_info": {
   "codemirror_mode": {
    "name": "ipython",
    "version": 3
   },
   "file_extension": ".py",
   "mimetype": "text/x-python",
   "name": "python",
   "nbconvert_exporter": "python",
   "pygments_lexer": "ipython3",
   "version": "3.6.5"
  }
 },
 "nbformat": 4,
 "nbformat_minor": 2
}
