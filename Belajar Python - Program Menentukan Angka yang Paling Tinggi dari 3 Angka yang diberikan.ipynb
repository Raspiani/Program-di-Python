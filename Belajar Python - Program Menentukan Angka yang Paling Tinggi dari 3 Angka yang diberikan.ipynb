{
 "cells": [
  {
   "cell_type": "markdown",
   "metadata": {},
   "source": [
    "### Program Menentukan Angka yang Paling Tinggi dari 3 Angka yang diberikan\n",
    "\n",
    "    Berikut ini adalah program untuk menentukan angka yang paling tertinggi dari tiga angka sembarang yang diberikan. \n",
    "    Programnya sebagai berikut:"
   ]
  },
  {
   "cell_type": "code",
   "execution_count": 3,
   "metadata": {},
   "outputs": [
    {
     "name": "stdout",
     "output_type": "stream",
     "text": [
      "Masukan angka pertama: 9\n",
      "Masukan angka kedua: 5\n",
      "Masukan angka ketiga: 3\n",
      "Angka Tertinggi antara 9.0 , 5.0 dan 3.0 adalah 9.0\n"
     ]
    }
   ],
   "source": [
    "angka_pertama = float(input(\"Masukan angka pertama: \")) #misalnya angka yang dimasukan adalah 9\n",
    "angka_kedua = float(input(\"Masukan angka kedua: \")) #misalnya angka yang dimasukan adalah 5\n",
    "angka_ketiga = float(input(\"Masukan angka ketiga: \")) #misalnya angka yang dimasukan adalah 3\n",
    "\n",
    "\n",
    "if angka_pertama >= angka_kedua and angka_pertama >= angka_ketiga:\n",
    "    tertinggi = angka_pertama\n",
    "elif angka_kedua >= angka_pertama and angka_kedua >= angka_ketiga:\n",
    "    tertinggi = angka_kedua\n",
    "else:\n",
    "    tertinggi = angka_ketiga\n",
    "    \n",
    "print(\"Angka Tertinggi antara\", angka_pertama, \",\", angka_kedua, \"dan\", angka_ketiga, \"adalah\", tertinggi)"
   ]
  },
  {
   "cell_type": "markdown",
   "metadata": {},
   "source": [
    "                        ## Semoga Bermanfaat\n",
    "                        ## @Raspiani_"
   ]
  }
 ],
 "metadata": {
  "kernelspec": {
   "display_name": "Python 3",
   "language": "python",
   "name": "python3"
  },
  "language_info": {
   "codemirror_mode": {
    "name": "ipython",
    "version": 3
   },
   "file_extension": ".py",
   "mimetype": "text/x-python",
   "name": "python",
   "nbconvert_exporter": "python",
   "pygments_lexer": "ipython3",
   "version": "3.6.5"
  }
 },
 "nbformat": 4,
 "nbformat_minor": 2
}
