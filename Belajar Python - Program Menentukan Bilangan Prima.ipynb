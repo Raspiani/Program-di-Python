{
 "cells": [
  {
   "cell_type": "markdown",
   "metadata": {},
   "source": [
    "### Berikut ini adalah program menentukan bilangan prima dari suatu angka sembarang yang diinputkan"
   ]
  },
  {
   "cell_type": "code",
   "execution_count": 9,
   "metadata": {},
   "outputs": [
    {
     "name": "stdout",
     "output_type": "stream",
     "text": [
      "6 Bukan bilangan prima\n",
      "karena 2 kali 3 adalah 6\n"
     ]
    }
   ],
   "source": [
    "#Meminta input bilangan dari user\n",
    "#angka = int(input(\"Masukan Angka yang diinginkan: \"))\n",
    "#misal angka yang diinputkan user adalah 6\n",
    "angka = 6\n",
    "\n",
    "#Bilangan Prima Harus Lebih Besar dari 1\n",
    "if angka > 1 :\n",
    "    for a in range(2, angka):\n",
    "        if (angka % a) == 0:\n",
    "            print(\"{} Bukan bilangan prima\".format(angka))\n",
    "            print(\"karena\", a, \"kali\", angka//a, \"adalah\", angka)\n",
    "            break\n",
    "    else: \n",
    "        print(\"{} adalah bilangan prima\".format(angka))\n",
    "#Jika bilangan kurang dari atau sama dengan 1\n",
    "else:\n",
    "    print(\"{} Bukan Bilangan Prima\".format(angka))       "
   ]
  },
  {
   "cell_type": "code",
   "execution_count": 10,
   "metadata": {},
   "outputs": [
    {
     "name": "stdout",
     "output_type": "stream",
     "text": [
      "5 adalah Bilangan Prima\n"
     ]
    }
   ],
   "source": [
    "angka = 5\n",
    "\n",
    "if angka > 1:\n",
    "    for a in range(2, angka):\n",
    "        if (angka % 2) == 0:\n",
    "            print(\"{} Bukan Bilangan Prima\".format(angka))\n",
    "            print(\"karena\", a, \"kali\", angka//a, \"adalah\", angka)\n",
    "            break\n",
    "    else:\n",
    "        print(\"{} adalah Bilangan Prima\".format(angka))\n",
    "\n",
    "else:\n",
    "    print(\"{} Bukan Bilangan Prima\".format(angka))"
   ]
  }
 ],
 "metadata": {
  "kernelspec": {
   "display_name": "Python 3",
   "language": "python",
   "name": "python3"
  },
  "language_info": {
   "codemirror_mode": {
    "name": "ipython",
    "version": 3
   },
   "file_extension": ".py",
   "mimetype": "text/x-python",
   "name": "python",
   "nbconvert_exporter": "python",
   "pygments_lexer": "ipython3",
   "version": "3.6.5"
  }
 },
 "nbformat": 4,
 "nbformat_minor": 2
}
