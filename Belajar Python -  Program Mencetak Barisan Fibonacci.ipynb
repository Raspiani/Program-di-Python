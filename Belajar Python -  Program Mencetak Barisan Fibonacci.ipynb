{
 "cells": [
  {
   "cell_type": "markdown",
   "metadata": {},
   "source": [
    "<h2 style=\"font-style:italic;\"><strong>Bilangan Fibonacci</strong></h2>\n",
    "\n",
    "<p>Dalam matematika, bilangan Fibonacci adalah barisan yang didefinisikan secara rekursif sebagai berikut:</p>\n",
    "\n",
    "<pre>\n",
    "<code>\n",
    "<img alt=\"\" src=\"Program Upload Github/Bilangan_Fibonacci.JPG\" style=\"width: 500px ; height: 130px\" />\n",
    "</code></pre>\n",
    "\n",
    "<center>&nbsp;</center>\n",
    "\n",
    "<p>Penjelasan: barisan ini berawal dari 0 dan 1, kemudian angka berikutnya didapat dengan cara menambahkan kedua bilangan yang berurutan sebelumnya. Dengan aturan ini, maka barisan bilangan Fibonaccci yang pertama adalah:</p>\n",
    "\n",
    "<p>0, 1, 1, 2, 3, 5, 8, 13, 21, 34, 55, 89, 144, 233, 377, 610, 987, 1597, 2584, 4181, 6765, 10946...</p>\n",
    "\n",
    "<p>&nbsp;</p>\n",
    "\n",
    "<p>sumber: <a href=\"https://id.wikipedia.org/wiki/Bilangan_Fibonacci\">https://id.wikipedia.org/wiki/Bilangan_Fibonacci</a></p>\n"
   ]
  },
  {
   "cell_type": "markdown",
   "metadata": {},
   "source": [
    "## Program Mencetak Barisan Fibonacci"
   ]
  },
  {
   "cell_type": "code",
   "execution_count": 10,
   "metadata": {},
   "outputs": [
    {
     "name": "stdout",
     "output_type": "stream",
     "text": [
      "Masukan indek n yang diinginkan : 5\n",
      "Barisan Fibonacci sampai indek n = 5 adalah : \n",
      "0 1 1 2 3 "
     ]
    }
   ],
   "source": [
    "n_indek = int(input(\"Masukan indek n yang diinginkan : \"))\n",
    "\n",
    "#misalnya dalam hal ini n_indek yang dimasukan adalah 5 (n_indek = 5)\n",
    "\n",
    "n1 = 0\n",
    "n2 = 1\n",
    "N = 0\n",
    "\n",
    "if n_indek <= 0:\n",
    "    print(\"Tolong masukan indek n yang positif\")\n",
    "elif n_indek == 1:\n",
    "    print(\"Barisan Fibonacci sampai n indek\", n_indek, \"adalah\", n1)\n",
    "else:\n",
    "    print(\"Barisan Fibonacci sampai indek n =\", n_indek, \"adalah : \")\n",
    "    while N < n_indek:\n",
    "        print(n1, end = ' ')\n",
    "        n_ke = n1 + n2\n",
    "        n1 = n2\n",
    "        n2 = n_ke\n",
    "        N += 1"
   ]
  }
 ],
 "metadata": {
  "kernelspec": {
   "display_name": "Python 3",
   "language": "python",
   "name": "python3"
  },
  "language_info": {
   "codemirror_mode": {
    "name": "ipython",
    "version": 3
   },
   "file_extension": ".py",
   "mimetype": "text/x-python",
   "name": "python",
   "nbconvert_exporter": "python",
   "pygments_lexer": "ipython3",
   "version": "3.6.5"
  }
 },
 "nbformat": 4,
 "nbformat_minor": 2
}
