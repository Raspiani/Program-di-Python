{
 "cells": [
  {
   "cell_type": "markdown",
   "metadata": {},
   "source": [
    "### Program Menentukan Tahun Kabisat\n",
    "\n",
    "    Berikut ini adalah program menentukan apakah tahun yang diinputkan merupakan tahun kabisat atau bukan."
   ]
  },
  {
   "cell_type": "code",
   "execution_count": 1,
   "metadata": {},
   "outputs": [
    {
     "name": "stdout",
     "output_type": "stream",
     "text": [
      "Masukan Tahun: 2019\n",
      "2019 adalah bukan tahun kabisat\n"
     ]
    }
   ],
   "source": [
    "tahun = int(input(\"Masukan Tahun: \"))\n",
    "\n",
    "if tahun % 4 == 0:\n",
    "    if tahun % 100 == 0:\n",
    "        if tahun % 400 == 0:\n",
    "            print(\"{0} adalah tahun kabisat\".format(tahun))\n",
    "        else: \n",
    "            print(\"{0} adalah bukan tahun kabisat\".format(tahun))\n",
    "    else:\n",
    "        print(\"{0} adalah tahun kabisat\".format(tahun))\n",
    "else:\n",
    "    print(\"{0} adalah bukan tahun kabisat\".format(tahun))"
   ]
  },
  {
   "cell_type": "code",
   "execution_count": 2,
   "metadata": {},
   "outputs": [
    {
     "name": "stdout",
     "output_type": "stream",
     "text": [
      "Masukan Tahun: 2020\n",
      "2020 adalah tahun kabisat\n"
     ]
    }
   ],
   "source": [
    "tahun = int(input(\"Masukan Tahun: \"))\n",
    "\n",
    "if tahun % 4 == 0:\n",
    "    if tahun % 100 == 0:\n",
    "        if tahun % 400 == 0:\n",
    "            print(\"{0} adalah tahun kabisat\".format(tahun))\n",
    "        else: \n",
    "            print(\"{0} adalah bukan tahun kabisat\".format(tahun))\n",
    "    else:\n",
    "        print(\"{0} adalah tahun kabisat\".format(tahun))\n",
    "else:\n",
    "    print(\"{0} adalah bukan tahun kabisat\".format(tahun))"
   ]
  }
 ],
 "metadata": {
  "kernelspec": {
   "display_name": "Python 3",
   "language": "python",
   "name": "python3"
  },
  "language_info": {
   "codemirror_mode": {
    "name": "ipython",
    "version": 3
   },
   "file_extension": ".py",
   "mimetype": "text/x-python",
   "name": "python",
   "nbconvert_exporter": "python",
   "pygments_lexer": "ipython3",
   "version": "3.6.5"
  }
 },
 "nbformat": 4,
 "nbformat_minor": 2
}
