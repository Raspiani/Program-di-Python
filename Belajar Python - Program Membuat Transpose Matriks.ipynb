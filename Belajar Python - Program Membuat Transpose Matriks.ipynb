{
 "cells": [
  {
   "cell_type": "markdown",
   "metadata": {},
   "source": [
    "### Berikut ini adalah program untuk membuat transpose matriks jika diketahui matriks B sebagai berikut:\n",
    "\n",
    "    B = [[9,8,7],\n",
    "         [6,5,4]]"
   ]
  },
  {
   "cell_type": "code",
   "execution_count": 9,
   "metadata": {},
   "outputs": [
    {
     "name": "stdout",
     "output_type": "stream",
     "text": [
      "[9, 6]\n",
      "[8, 5]\n",
      "[7, 4]\n"
     ]
    }
   ],
   "source": [
    "B = [[9,8,7],\n",
    "     [6,5,4]]\n",
    "\n",
    "hasil = [[0,0],\n",
    "         [0,0],\n",
    "         [0,0]]\n",
    "\n",
    "for b in range(len(B)):\n",
    "    for c in range(len(B[0])):\n",
    "        hasil[c][b] = B[b][c]\n",
    "        \n",
    "for d in hasil:\n",
    "    print(d)"
   ]
  }
 ],
 "metadata": {
  "kernelspec": {
   "display_name": "Python 3",
   "language": "python",
   "name": "python3"
  },
  "language_info": {
   "codemirror_mode": {
    "name": "ipython",
    "version": 3
   },
   "file_extension": ".py",
   "mimetype": "text/x-python",
   "name": "python",
   "nbconvert_exporter": "python",
   "pygments_lexer": "ipython3",
   "version": "3.6.5"
  }
 },
 "nbformat": 4,
 "nbformat_minor": 2
}
