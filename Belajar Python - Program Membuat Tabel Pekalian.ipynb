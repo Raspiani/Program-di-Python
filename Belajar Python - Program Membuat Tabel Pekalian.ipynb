{
 "cells": [
  {
   "cell_type": "markdown",
   "metadata": {},
   "source": [
    "#### Berikut ini adalah program perkalian ... sampai 10. \n",
    "\n",
    "    Contoh: Output yang ditampilkan dari program tersebut adalah:\n",
    "        1 x 1 = 1\n",
    "        1 x 2 = 2 \n",
    "        \n",
    "        sampai dengan \n",
    "        \n",
    "        1 x 10 = 10"
   ]
  },
  {
   "cell_type": "code",
   "execution_count": 4,
   "metadata": {},
   "outputs": [
    {
     "name": "stdout",
     "output_type": "stream",
     "text": [
      "Masukan angka yang diinginkan: 1\n",
      "1 x 1 = 1\n",
      "1 x 2 = 2\n",
      "1 x 3 = 3\n",
      "1 x 4 = 4\n",
      "1 x 5 = 5\n",
      "1 x 6 = 6\n",
      "1 x 7 = 7\n",
      "1 x 8 = 8\n",
      "1 x 9 = 9\n",
      "1 x 10 = 10\n"
     ]
    }
   ],
   "source": [
    "#Masukan angka yang diinginkan untuk tabel perkalian tersebut.\n",
    "#misalnya angkanya adalah 1\n",
    "\n",
    "angka = 1\n",
    "\n",
    "#angka = int(input(\"Masukan angka yang diinginkan: \"))\n",
    "\n",
    "for a in range(1,11):\n",
    "    print(angka, \"x\", a, '=',angka*a)"
   ]
  },
  {
   "cell_type": "code",
   "execution_count": null,
   "metadata": {},
   "outputs": [],
   "source": []
  }
 ],
 "metadata": {
  "kernelspec": {
   "display_name": "Python 3",
   "language": "python",
   "name": "python3"
  },
  "language_info": {
   "codemirror_mode": {
    "name": "ipython",
    "version": 3
   },
   "file_extension": ".py",
   "mimetype": "text/x-python",
   "name": "python",
   "nbconvert_exporter": "python",
   "pygments_lexer": "ipython3",
   "version": "3.6.5"
  }
 },
 "nbformat": 4,
 "nbformat_minor": 2
}
