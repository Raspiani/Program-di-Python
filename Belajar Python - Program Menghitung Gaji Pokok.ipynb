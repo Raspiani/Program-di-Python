{
 "cells": [
  {
   "cell_type": "markdown",
   "metadata": {},
   "source": [
    "### Program Menghitung Gaji Pokok\n",
    "\n",
    "    Berikut ini adalah program menghitung gaji pokok untuk mengetahui apakah seseorang harus rajin menabung\n",
    "    dan mengikuti asuransi atau tidak. "
   ]
  },
  {
   "cell_type": "code",
   "execution_count": 14,
   "metadata": {},
   "outputs": [
    {
     "name": "stdout",
     "output_type": "stream",
     "text": [
      "Nama: Adrian\n",
      "Gaji dalam Rupiah = 6000000\n",
      "Berkeluarga = tidak\n",
      "Maka tidak perlu ikut asuransi dan menabung\n",
      "Punya rumah = iya\n",
      "Bayar Pajak\n"
     ]
    }
   ],
   "source": [
    "gaji_pokok = 3000000\n",
    "Nama = input(\"Nama: \")\n",
    "gaji = int(input(\"Gaji dalam Rupiah = \"))\n",
    "\n",
    "#misalnya dalam hal ini, ada seorang karyawan bernama Adrian yang belum berkeluarga dan memiliki rumah\n",
    "\n",
    "if gaji > gaji_pokok :\n",
    "    berkeluarga = input(\"Berkeluarga = \")\n",
    "    if berkeluarga == \"iya\":\n",
    "        print(\"Maka harus rajin menabung dan ikut asuransi\")\n",
    "    elif berkeluarga == \"tidak\":\n",
    "        print(\"Maka tidak perlu ikut asuransi dan menabung\")        \n",
    "    if gaji > gaji_pokok :\n",
    "        punya_rumah = input(\"Punya rumah = \")\n",
    "        if punya_rumah == \"iya\":\n",
    "            print(\"Bayar Pajak\")\n",
    "        elif punya_rumah == \"tidak\":\n",
    "            print(\"Tidak Wajib Bayar Pajak\")  \n",
    "else:\n",
    "    print(\"gaji anda di bawah UMR\")  "
   ]
  }
 ],
 "metadata": {
  "kernelspec": {
   "display_name": "Python 3",
   "language": "python",
   "name": "python3"
  },
  "language_info": {
   "codemirror_mode": {
    "name": "ipython",
    "version": 3
   },
   "file_extension": ".py",
   "mimetype": "text/x-python",
   "name": "python",
   "nbconvert_exporter": "python",
   "pygments_lexer": "ipython3",
   "version": "3.6.5"
  }
 },
 "nbformat": 4,
 "nbformat_minor": 2
}
