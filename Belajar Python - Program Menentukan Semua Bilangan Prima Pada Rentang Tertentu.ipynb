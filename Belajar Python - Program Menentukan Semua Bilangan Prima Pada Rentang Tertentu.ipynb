{
 "cells": [
  {
   "cell_type": "markdown",
   "metadata": {},
   "source": [
    "### Berikut ini adalahh Program Menentukan Semua Bilangan Prima Pada Rentang Tertentu:"
   ]
  },
  {
   "cell_type": "code",
   "execution_count": 1,
   "metadata": {},
   "outputs": [
    {
     "name": "stdout",
     "output_type": "stream",
     "text": [
      "Bilangan Prima antara 1 dan 5 adalah:\n",
      "2\n",
      "3\n",
      "5\n"
     ]
    }
   ],
   "source": [
    "#masukan batas_bawah dan batas_atas yang dipilih \n",
    "#batas_bawah = int(input(\"Masukan Batas Bawah = \"))\n",
    "#batas_atas = int(input(\"Masukan Batas Atas = \"))\n",
    "\n",
    "#misalnya batas_bawah dan batas_atas yang dipilih masing-masing adalah 1 dan 5\n",
    "batas_bawah = 1\n",
    "batas_atas = 5\n",
    "print(\"Bilangan Prima antara\", batas_bawah, \"dan\", batas_atas, \"adalah:\")\n",
    "\n",
    "for angka in range(batas_bawah, batas_atas + 1):\n",
    "    if angka > 1:\n",
    "        for a in range(2, angka):\n",
    "            if (angka % a) == 0:\n",
    "                break\n",
    "        else:\n",
    "            print(angka)"
   ]
  },
  {
   "cell_type": "code",
   "execution_count": 2,
   "metadata": {},
   "outputs": [
    {
     "name": "stdout",
     "output_type": "stream",
     "text": [
      "Bilangan Prima antara 400 dan 500 adalah:\n",
      "401\n",
      "409\n",
      "419\n",
      "421\n",
      "431\n",
      "433\n",
      "439\n",
      "443\n",
      "449\n",
      "457\n",
      "461\n",
      "463\n",
      "467\n",
      "479\n",
      "487\n",
      "491\n",
      "499\n"
     ]
    }
   ],
   "source": [
    "#masukan batas_bawah dan batas_atas yang dipilih \n",
    "#batas_bawah = int(input(\"Masukan Batas Bawah = \"))\n",
    "#batas_atas = int(input(\"Masukan Batas Atas = \"))\n",
    "\n",
    "#misalnya batas_bawah dan batas_atas yang dipilih masing-masing adalah 500 dan 500\n",
    "batas_bawah = 400\n",
    "batas_atas = 500\n",
    "\n",
    "print(\"Bilangan Prima antara\", batas_bawah, \"dan\", batas_atas, \"adalah:\")\n",
    "\n",
    "for angka in range(batas_bawah, batas_atas + 1):\n",
    "    if angka > 1:\n",
    "        for a in range(2, angka):\n",
    "            if (angka % a) == 0:\n",
    "                break\n",
    "        else:\n",
    "            print(angka)"
   ]
  },
  {
   "cell_type": "code",
   "execution_count": 5,
   "metadata": {},
   "outputs": [
    {
     "name": "stdout",
     "output_type": "stream",
     "text": [
      "Bilangan prima antara 1000 dan 1100 adalah:\n",
      "1001\n",
      "1003\n",
      "1005\n",
      "1007\n",
      "1009\n",
      "1011\n",
      "1013\n",
      "1015\n",
      "1017\n",
      "1019\n",
      "1021\n",
      "1023\n",
      "1025\n",
      "1027\n",
      "1029\n",
      "1031\n",
      "1033\n",
      "1035\n",
      "1037\n",
      "1039\n",
      "1041\n",
      "1043\n",
      "1045\n",
      "1047\n",
      "1049\n",
      "1051\n",
      "1053\n",
      "1055\n",
      "1057\n",
      "1059\n",
      "1061\n",
      "1063\n",
      "1065\n",
      "1067\n",
      "1069\n",
      "1071\n",
      "1073\n",
      "1075\n",
      "1077\n",
      "1079\n",
      "1081\n",
      "1083\n",
      "1085\n",
      "1087\n",
      "1089\n",
      "1091\n",
      "1093\n",
      "1095\n",
      "1097\n",
      "1099\n"
     ]
    }
   ],
   "source": [
    "batas_bawah = 1000\n",
    "batas_atas = 1100\n",
    "\n",
    "print(\"Bilangan prima antara\", batas_bawah, \"dan\", batas_atas, \"adalah:\")\n",
    "\n",
    "for angka in range(batas_bawah, batas_atas + 1):\n",
    "    if angka > 1:\n",
    "        for a in range(2, angka):\n",
    "            if angka % 2 == 0:\n",
    "                break\n",
    "        else:\n",
    "            print(angka)"
   ]
  }
 ],
 "metadata": {
  "kernelspec": {
   "display_name": "Python 3",
   "language": "python",
   "name": "python3"
  },
  "language_info": {
   "codemirror_mode": {
    "name": "ipython",
    "version": 3
   },
   "file_extension": ".py",
   "mimetype": "text/x-python",
   "name": "python",
   "nbconvert_exporter": "python",
   "pygments_lexer": "ipython3",
   "version": "3.6.5"
  }
 },
 "nbformat": 4,
 "nbformat_minor": 2
}
