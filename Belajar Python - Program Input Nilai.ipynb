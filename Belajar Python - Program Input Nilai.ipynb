{
 "cells": [
  {
   "cell_type": "markdown",
   "metadata": {},
   "source": [
    "### Program Input Nilai\n",
    "\n",
    "    Berikut ini adalah contoh program input nilai dimana kriterianya terdiri dari:\n",
    "    \n",
    "                    Nilai A >= 80\n",
    "                    70 <= Nilai < 80\n",
    "                    60 <= Nilai < 70"
   ]
  },
  {
   "cell_type": "code",
   "execution_count": 8,
   "metadata": {},
   "outputs": [
    {
     "name": "stdout",
     "output_type": "stream",
     "text": [
      "Nama: Raspiani\n",
      "Masukan Nilai: 80\n",
      "Nilai yang diperoleh A\n"
     ]
    }
   ],
   "source": [
    "#masukan Nama, misalnya Raspiani\n",
    "Nama = input(\"Nama: \")\n",
    "\n",
    "#misal nilainya adalah 80\n",
    "Nilai = int(input(\"Masukan Nilai: \"))\n",
    "\n",
    "if Nilai >= 80:\n",
    "    print(\"Nilai yang diperoleh A\")\n",
    "elif 70 <= Nilai < 80:\n",
    "    print(\"Nilai yang diperoleh B\")\n",
    "elif 60 <= Nilai < 70:\n",
    "    print(\"Nilai yang diperoleh C\")\n",
    "\n",
    "else:\n",
    "    print(\"Anda Harus Mengulang, Semangat\")"
   ]
  }
 ],
 "metadata": {
  "kernelspec": {
   "display_name": "Python 3",
   "language": "python",
   "name": "python3"
  },
  "language_info": {
   "codemirror_mode": {
    "name": "ipython",
    "version": 3
   },
   "file_extension": ".py",
   "mimetype": "text/x-python",
   "name": "python",
   "nbconvert_exporter": "python",
   "pygments_lexer": "ipython3",
   "version": "3.6.5"
  }
 },
 "nbformat": 4,
 "nbformat_minor": 2
}
