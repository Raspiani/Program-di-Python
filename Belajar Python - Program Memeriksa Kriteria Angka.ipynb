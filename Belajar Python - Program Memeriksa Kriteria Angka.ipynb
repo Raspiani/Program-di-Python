{
 "cells": [
  {
   "cell_type": "markdown",
   "metadata": {},
   "source": [
    "### Program Memeriksa Kriteria Angka\n",
    "    \n",
    "    Berikut ini adalah program untuk memeriksa apakah angka yang dimasukan termasuk ke dalam \n",
    "    a. Angka Positif \n",
    "    b. Angka Negatif \n",
    "    c. Angka Nol (Netral)"
   ]
  },
  {
   "cell_type": "code",
   "execution_count": 2,
   "metadata": {},
   "outputs": [
    {
     "name": "stdout",
     "output_type": "stream",
     "text": [
      "Masukan angka yang diinginkan: -3\n",
      "Angka yang anda masukan adalah negatif\n"
     ]
    }
   ],
   "source": [
    "#misal angka yang dimasukan adalah -3\n",
    "angka = float(input(\"Masukan angka yang diinginkan: \"))\n",
    "\n",
    "if angka > 0 :\n",
    "    print(\"Angka yang anda masukan adalah positif \")\n",
    "elif angka == 0:\n",
    "    print(\"Angka yang anda masukan adalah nol\")\n",
    "else: \n",
    "    print(\"Angka yang anda masukan adalah negatif\")"
   ]
  },
  {
   "cell_type": "code",
   "execution_count": 3,
   "metadata": {},
   "outputs": [
    {
     "name": "stdout",
     "output_type": "stream",
     "text": [
      "Masukan angka yang diinginkan: 5\n",
      "Angka yang anda masukan adalah positif \n"
     ]
    }
   ],
   "source": [
    "#misal angka yang dimasukan adalah 5\n",
    "angka = float(input(\"Masukan angka yang diinginkan: \"))\n",
    "\n",
    "if angka > 0 :\n",
    "    print(\"Angka yang anda masukan adalah positif \")\n",
    "elif angka == 0:\n",
    "    print(\"Angka yang anda masukan adalah nol\")\n",
    "else: \n",
    "    print(\"angka yang anda masukan adalah negatif\")"
   ]
  },
  {
   "cell_type": "code",
   "execution_count": 4,
   "metadata": {},
   "outputs": [
    {
     "name": "stdout",
     "output_type": "stream",
     "text": [
      "Masukan angka yang diinginkan: 0\n",
      "Angka yang anda masukan adalah nol\n"
     ]
    }
   ],
   "source": [
    "#misal angka yang dimasukan adalah 0\n",
    "angka = float(input(\"Masukan angka yang diinginkan: \"))\n",
    "\n",
    "if angka > 0 :\n",
    "    print(\"Angka yang anda masukan adalah positif \")\n",
    "elif angka == 0:\n",
    "    print(\"Angka yang anda masukan adalah nol\")\n",
    "else: \n",
    "    print(\"angka yang anda masukan adalah negatif\")"
   ]
  },
  {
   "cell_type": "code",
   "execution_count": 5,
   "metadata": {},
   "outputs": [
    {
     "name": "stdout",
     "output_type": "stream",
     "text": [
      "Masukan angka yang diinginkan: 6\n",
      "Angka yang anda masukan adalah positif\n"
     ]
    }
   ],
   "source": [
    "#Bentuk Code lain untuk memeriksa kriteria bilangan\n",
    "#misal angka yang dimasukan adalah 6\n",
    "angka = float(input(\"Masukan angka yang diinginkan: \"))\n",
    "\n",
    "if angka >= 0:\n",
    "    if angka == 0:\n",
    "        print(\"Angka yang anda masukan adalah nol\")\n",
    "    else:\n",
    "        print(\"Angka yang anda masukan adalah positif\")\n",
    "else:\n",
    "    print(\"Angka yang anda masukan adalah negatif\")"
   ]
  }
 ],
 "metadata": {
  "kernelspec": {
   "display_name": "Python 3",
   "language": "python",
   "name": "python3"
  },
  "language_info": {
   "codemirror_mode": {
    "name": "ipython",
    "version": 3
   },
   "file_extension": ".py",
   "mimetype": "text/x-python",
   "name": "python",
   "nbconvert_exporter": "python",
   "pygments_lexer": "ipython3",
   "version": "3.6.5"
  }
 },
 "nbformat": 4,
 "nbformat_minor": 2
}
