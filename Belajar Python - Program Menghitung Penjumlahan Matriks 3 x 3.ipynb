{
 "cells": [
  {
   "cell_type": "markdown",
   "metadata": {},
   "source": [
    "### Berikut ini adalah program menghitung penjumlahan matriks jika diketahui matriks A dan B sebagai berikut:\n",
    "\n",
    "        A = [ [1,2,3],\n",
    "              [4,5,6],\n",
    "              [7,8,9] ]\n",
    "              \n",
    "              \n",
    "        B = [ [9,8,7],\n",
    "              [6,5,4],\n",
    "              [3,2,1] ]"
   ]
  },
  {
   "cell_type": "code",
   "execution_count": 5,
   "metadata": {},
   "outputs": [
    {
     "name": "stdout",
     "output_type": "stream",
     "text": [
      "[10, 10, 10]\n",
      "[10, 10, 10]\n",
      "[10, 10, 10]\n"
     ]
    }
   ],
   "source": [
    "A = [ [1,2,3],\n",
    "      [4,5,6],\n",
    "      [7,8,9] ]\n",
    "\n",
    "B = [ [9,8,7],\n",
    "      [6,5,4],\n",
    "      [3,2,1] ]\n",
    "\n",
    "hasil = [ [0,0,0],\n",
    "          [0,0,0],\n",
    "          [0,0,0] ]\n",
    "\n",
    "for a in range(len(A)):\n",
    "    for b in range(len(A[0])):\n",
    "        hasil[a][b] = A[a][b] + B[a][b]\n",
    "\n",
    "for c in hasil:\n",
    "    print(c)"
   ]
  },
  {
   "cell_type": "markdown",
   "metadata": {},
   "source": [
    "### Penjumlahan Matriks 3 x 3 menggunakan list comprehensif"
   ]
  },
  {
   "cell_type": "code",
   "execution_count": 11,
   "metadata": {},
   "outputs": [
    {
     "data": {
      "text/plain": [
       "[[10, 10, 10], [10, 10, 10], [10, 10, 10]]"
      ]
     },
     "execution_count": 11,
     "metadata": {},
     "output_type": "execute_result"
    }
   ],
   "source": [
    "Z = [[A[a][b] + B[a][b] for b in range(len(A[0]))] for a in range(len(A))]\n",
    "Z"
   ]
  }
 ],
 "metadata": {
  "kernelspec": {
   "display_name": "Python 3",
   "language": "python",
   "name": "python3"
  },
  "language_info": {
   "codemirror_mode": {
    "name": "ipython",
    "version": 3
   },
   "file_extension": ".py",
   "mimetype": "text/x-python",
   "name": "python",
   "nbconvert_exporter": "python",
   "pygments_lexer": "ipython3",
   "version": "3.6.5"
  }
 },
 "nbformat": 4,
 "nbformat_minor": 2
}
